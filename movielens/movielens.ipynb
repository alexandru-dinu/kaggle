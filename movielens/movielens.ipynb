{
 "cells": [
  {
   "cell_type": "code",
   "execution_count": null,
   "metadata": {},
   "outputs": [],
   "source": [
    "from collections import Counter\n",
    "\n",
    "from bagoftools.logger import Logger\n",
    "\n",
    "L = Logger(colorize=True)"
   ]
  },
  {
   "cell_type": "code",
   "execution_count": null,
   "metadata": {},
   "outputs": [],
   "source": [
    "links   = pd.read_csv('./data/links.csv')\n",
    "movies  = pd.read_csv('./data/movies.csv')\n",
    "ratings = pd.read_csv('./data/ratings.csv')\n",
    "tags    = pd.read_csv('./data/tags.csv')"
   ]
  },
  {
   "cell_type": "code",
   "execution_count": null,
   "metadata": {},
   "outputs": [],
   "source": [
    "user_ids  = set(ratings.userId - 1)\n",
    "movie_ids = set(ratings.movieId - 1)\n",
    "\n",
    "L.info(f'{len(user_ids):6,d} unique UserIDs')\n",
    "L.info(f'{len(movie_ids):6,d} unique MovieIDs')"
   ]
  },
  {
   "cell_type": "code",
   "execution_count": null,
   "metadata": {},
   "outputs": [],
   "source": [
    "mid2title = dict(zip(movies.movieId, movies.title))\n",
    "\n",
    "def title_of(uid):\n",
    "    return mid2title.get(uid + 1, 'N/A')\n",
    "    \n",
    "def genres_of(uid):\n",
    "    ms = movies[movies.movieId.isin(ratings[ratings.userId == uid].movieId)]\n",
    "    ct = Counter(reduce(lambda x, y: x + '|' + y, ms.genres).split('|'))\n",
    "    return ct\n",
    "\n",
    "def preferences_of(uid):\n",
    "    return np.argsort(-R[uid])"
   ]
  },
  {
   "cell_type": "code",
   "execution_count": null,
   "metadata": {},
   "outputs": [],
   "source": [
    "# users x ratings\n",
    "R = ratings.pivot_table(index=['movieId'], columns=['userId'], values='rating').reset_index(drop=True)\n",
    "R.fillna(0, inplace=True)\n",
    "R = R.transpose().to_numpy()\n",
    "\n",
    "L.info(f'rating matrix shape: {R.shape}')"
   ]
  },
  {
   "cell_type": "code",
   "execution_count": null,
   "metadata": {},
   "outputs": [],
   "source": [
    "def user_similarity(uid1, uid2, method='cosine'):\n",
    "    if method == 'cosine':\n",
    "        u, v = R[uid1], R[uid2]\n",
    "        return np.dot(u, v) / (np.linalg.norm(u) * np.linalg.norm(v))\n",
    "    \n",
    "    elif method == 'pearson':\n",
    "        raise NotImplementedError()\n",
    "    \n",
    "    else:\n",
    "        raise ValueError(f'Invalid method {method}. Expected cosine or pearson.')\n",
    "\n",
    "        \n",
    "def similar_users(uid, count=5):\n",
    "    return sorted(user_ids - {uid}, key=lambda u: user_similarity(uid, u), reverse=True)[:count]\n",
    "\n",
    "\n",
    "def recommend(uid, count=5):\n",
    "    rec = np.zeros_like(R[uid])\n",
    "\n",
    "    simil = {u: user_similarity(uid, u) for u in similar_users(uid, count=5)}\n",
    "\n",
    "    for i, r in enumerate(R[uid]):\n",
    "        # already rated\n",
    "        if r > 0:\n",
    "            continue\n",
    "\n",
    "        rec[i] = sum([R[u, i] * simil[u] for u in simil]) / sum(simil.values())\n",
    "\n",
    "    return np.argsort(-rec)[:count]"
   ]
  },
  {
   "cell_type": "code",
   "execution_count": null,
   "metadata": {},
   "outputs": [],
   "source": [
    "recommend(uid=12, count=10)"
   ]
  },
  {
   "cell_type": "code",
   "execution_count": null,
   "metadata": {},
   "outputs": [],
   "source": [
    "[title_of(x) for x in recommend(uid=12, count=10)]"
   ]
  },
  {
   "cell_type": "code",
   "execution_count": null,
   "metadata": {},
   "outputs": [],
   "source": [
    "[title_of(x) for x in preferences_of(uid=12)[:10]]"
   ]
  },
  {
   "cell_type": "code",
   "execution_count": null,
   "metadata": {},
   "outputs": [],
   "source": []
  }
 ],
 "metadata": {
  "kernelspec": {
   "display_name": "Python 3",
   "language": "python",
   "name": "python3"
  },
  "language_info": {
   "codemirror_mode": {
    "name": "ipython",
    "version": 3
   },
   "file_extension": ".py",
   "mimetype": "text/x-python",
   "name": "python",
   "nbconvert_exporter": "python",
   "pygments_lexer": "ipython3",
   "version": "3.7.6"
  }
 },
 "nbformat": 4,
 "nbformat_minor": 4
}
