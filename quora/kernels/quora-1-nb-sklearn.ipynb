{
 "cells": [
  {
   "cell_type": "code",
   "execution_count": null,
   "metadata": {
    "_uuid": "204a880851ec8bc331d27b74b0c72b810ab28858"
   },
   "outputs": [],
   "source": [
    "import numpy as np\n",
    "import pandas as pd\n",
    "from sklearn.naive_bayes import MultinomialNB\n",
    "from sklearn.feature_extraction.text import CountVectorizer\n",
    "from sklearn.feature_extraction.text import TfidfTransformer\n",
    "\n",
    "from functools import reduce\n",
    "import random\n",
    "import re\n",
    "from tqdm import tqdm_notebook as tqdm"
   ]
  },
  {
   "cell_type": "code",
   "execution_count": null,
   "metadata": {
    "_uuid": "af92377087919b8bb91f47397840c46407fac93d"
   },
   "outputs": [],
   "source": [
    "DATA_DIR = \"../input\"\n",
    "TRAIN_CSV = f\"{DATA_DIR}/train.csv\"\n",
    "TEST_CSV = f\"{DATA_DIR}/test.csv\"\n",
    "\n",
    "train_df = pd.read_csv(TRAIN_CSV)\n",
    "test_df = pd.read_csv(TEST_CSV)\n",
    "\n",
    "print(f\"Train shape: {train_df.shape}; cols: {list(train_df.columns)}\")\n",
    "print(f\"Test shape: {test_df.shape}; cols: {list(test_df.columns)}\")"
   ]
  },
  {
   "cell_type": "code",
   "execution_count": null,
   "metadata": {
    "_uuid": "262157e03d06c747d5cf522143c77de78aa1e6a8"
   },
   "outputs": [],
   "source": [
    "# randomly show a train example\n",
    "list(train_df.iloc[random.randint(0, len(train_df))])"
   ]
  },
  {
   "cell_type": "markdown",
   "metadata": {
    "_uuid": "aec9f542e1e5b0dde8c1a3fcc89f91b5b179a81d"
   },
   "source": [
    "### Data analysis"
   ]
  },
  {
   "cell_type": "code",
   "execution_count": null,
   "metadata": {
    "_uuid": "fcc377f3cd7b348f2e690cb6cc7a34e4d0e19872"
   },
   "outputs": [],
   "source": [
    "sincere = train_df.loc[train_df['target'] == 0]\n",
    "insincere = train_df.loc[train_df['target'] == 1]\n",
    "\n",
    "print(insincere.iloc[random.randint(0, len(insincere))]['question_text'])\n",
    "\n",
    "print(f\"Sincere: {len(sincere)} ({round(100.0 * len(sincere)/len(train_df), 3)}%)\")\n",
    "print(f\"Insincere: {len(insincere)} ({round(100.0 * len(insincere)/len(train_df), 3)}%)\")"
   ]
  },
  {
   "cell_type": "markdown",
   "metadata": {
    "_uuid": "0a1265d87bf77bf73d53f5c20a03552a8f54a84a"
   },
   "source": [
    "### Naive Bayes\n"
   ]
  },
  {
   "cell_type": "code",
   "execution_count": null,
   "metadata": {
    "_uuid": "d93d80ca5935b92fe07c7912a18505157544e15c"
   },
   "outputs": [],
   "source": [
    "count_vect = CountVectorizer()\n",
    "train_counts = count_vect.fit_transform(train_df.question_text)\n",
    "print(train_counts.shape)\n",
    "\n",
    "model = MultinomialNB(alpha=1)\n",
    "model.fit(train_counts, train_df.target)"
   ]
  },
  {
   "cell_type": "code",
   "execution_count": null,
   "metadata": {
    "_uuid": "fc85ea8edc2ee905ed3d1d054524609e02a904ee"
   },
   "outputs": [],
   "source": [
    "test_counts = count_vect.transform((\"this car is a nice car\",))\n",
    "pred = model.predict(test_counts)\n",
    "print(\"Insincere\" if pred.data[0] == 1 else \"Sincere\")"
   ]
  },
  {
   "cell_type": "code",
   "execution_count": null,
   "metadata": {
    "_uuid": "5b4750d31778afbb3c546c0ff079f0cd823708b1"
   },
   "outputs": [],
   "source": [
    "test_counts = count_vect.transform(test_df.question_text)\n",
    "preds = model.predict(test_counts).astype(int)"
   ]
  },
  {
   "cell_type": "code",
   "execution_count": null,
   "metadata": {
    "_uuid": "dfa73e2bc827f1725b90ac611bf91abf62bcf71b"
   },
   "outputs": [],
   "source": [
    "submission = pd.DataFrame.from_dict({\n",
    "    'qid': test_df['qid'],\n",
    "    'prediction': preds\n",
    "})\n",
    "\n",
    "submission.to_csv('submission.csv', index=False)"
   ]
  }
 ],
 "metadata": {
  "kernelspec": {
   "display_name": "Python 3",
   "language": "python",
   "name": "python3"
  },
  "language_info": {
   "codemirror_mode": {
    "name": "ipython",
    "version": 3
   },
   "file_extension": ".py",
   "mimetype": "text/x-python",
   "name": "python",
   "nbconvert_exporter": "python",
   "pygments_lexer": "ipython3",
   "version": "3.6.6"
  }
 },
 "nbformat": 4,
 "nbformat_minor": 1
}
