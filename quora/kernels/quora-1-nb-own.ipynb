{
 "cells": [
  {
   "cell_type": "code",
   "execution_count": null,
   "metadata": {
    "trusted": false,
    "_uuid": "991dd280e1aa895006782f2420299f43c365bf3b"
   },
   "outputs": [],
   "source": [
    "import numpy as np\n",
    "import pandas as pd\n",
    "\n",
    "from functools import reduce\n",
    "import random\n",
    "import re\n",
    "from tqdm import tqdm_notebook as tqdm"
   ]
  },
  {
   "cell_type": "code",
   "execution_count": null,
   "metadata": {
    "trusted": false,
    "_uuid": "243278ccda7ad7c9d6d4352f7fca1d44549d1084"
   },
   "outputs": [],
   "source": [
    "DATA_DIR = \"../input\"\n",
    "TRAIN_CSV = f\"{DATA_DIR}/train.csv\"\n",
    "TEST_CSV = f\"{DATA_DIR}/test.csv\"\n",
    "\n",
    "train_df = pd.read_csv(TRAIN_CSV)\n",
    "test_df = pd.read_csv(TEST_CSV)\n",
    "\n",
    "print(f\"Train shape: {train_df.shape}; cols: {list(train_df.columns)}\")\n",
    "print(f\"Test shape: {test_df.shape}; cols: {list(test_df.columns)}\")"
   ]
  },
  {
   "cell_type": "code",
   "execution_count": null,
   "metadata": {
    "trusted": false,
    "_uuid": "b6390d234bfae617a0628e8d72329f5a212d1edb"
   },
   "outputs": [],
   "source": [
    "# randomly show a train example\n",
    "list(train_df.iloc[random.randint(0, len(train_df))])"
   ]
  },
  {
   "cell_type": "code",
   "execution_count": null,
   "metadata": {
    "trusted": false,
    "_uuid": "48db903b91a46aebc6ed9996499ebe3390ac45f3"
   },
   "outputs": [],
   "source": [
    "sincere = train_df.loc[train_df['target'] == 0]\n",
    "insincere = train_df.loc[train_df['target'] == 1]\n",
    "\n",
    "print(insincere.iloc[random.randint(0, len(insincere))]['question_text'])\n",
    "\n",
    "print(f\"Sincere: {len(sincere)} ({round(100.0 * len(sincere)/len(train_df), 3)}%)\")\n",
    "print(f\"Insincere: {len(insincere)} ({round(100.0 * len(insincere)/len(train_df), 3)}%)\")"
   ]
  },
  {
   "cell_type": "code",
   "execution_count": null,
   "metadata": {
    "trusted": false,
    "_uuid": "6b9f925a4afdcb4e7ad93093d22d9e1a1f63fb9f"
   },
   "outputs": [],
   "source": [
    "CONTRACTIONS = {\n",
    "    \"ain't\": \"am not\",\n",
    "    \"aren't\": \"are not\",\n",
    "    \"can't\": \"cannot\",\n",
    "    \"can't've\": \"cannot have\",\n",
    "    \"'cause\": \"because\",\n",
    "    \"could've\": \"could have\",\n",
    "    \"couldn't\": \"could not\",\n",
    "    \"couldn't've\": \"could not have\",\n",
    "    \"didn't\": \"did not\",\n",
    "    \"doesn't\": \"does not\",\n",
    "    \"don't\": \"do not\",\n",
    "    \"hadn't\": \"had not\",\n",
    "    \"hadn't've\": \"had not have\",\n",
    "    \"hasn't\": \"has not\",\n",
    "    \"haven't\": \"have not\",\n",
    "    \"he'd\": \"he would\",\n",
    "    \"he'd've\": \"he would have\",\n",
    "    \"he'll\": \"he will\",\n",
    "    \"he'll've\": \"he will have\",\n",
    "    \"he's\": \"he is\",\n",
    "    \"how'd\": \"how did\",\n",
    "    \"how'd'y\": \"how do you\",\n",
    "    \"how'll\": \"how will\",\n",
    "    \"how's\": \"how is\",\n",
    "    \"I'd\": \"I would\",\n",
    "    \"I'd've\": \"I would have\",\n",
    "    \"I'll\": \"I will\",\n",
    "    \"I'll've\": \"I will have\",\n",
    "    \"I'm\": \"I am\",\n",
    "    \"I've\": \"I have\",\n",
    "    \"isn't\": \"is not\",\n",
    "    \"it'd\": \"it had\",\n",
    "    \"it'd've\": \"it would have\",\n",
    "    \"it'll\": \"it will\",\n",
    "    \"it'll've\": \"it will have\",\n",
    "    \"it's\": \"it is\",\n",
    "    \"let's\": \"let us\",\n",
    "    \"ma'am\": \"madam\",\n",
    "    \"mayn't\": \"may not\",\n",
    "    \"might've\": \"might have\",\n",
    "    \"mightn't\": \"might not\",\n",
    "    \"mightn't've\": \"might not have\",\n",
    "    \"must've\": \"must have\",\n",
    "    \"mustn't\": \"must not\",\n",
    "    \"mustn't've\": \"must not have\",\n",
    "    \"needn't\": \"need not\",\n",
    "    \"needn't've\": \"need not have\",\n",
    "    \"o'clock\": \"of the clock\",\n",
    "    \"oughtn't\": \"ought not\",\n",
    "    \"oughtn't've\": \"ought not have\",\n",
    "    \"shan't\": \"shall not\",\n",
    "    \"sha'n't\": \"shall not\",\n",
    "    \"shan't've\": \"shall not have\",\n",
    "    \"she'd\": \"she would\",\n",
    "    \"she'd've\": \"she would have\",\n",
    "    \"she'll\": \"she will\",\n",
    "    \"she'll've\": \"she will have\",\n",
    "    \"she's\": \"she is\",\n",
    "    \"should've\": \"should have\",\n",
    "    \"shouldn't\": \"should not\",\n",
    "    \"shouldn't've\": \"should not have\",\n",
    "    \"so've\": \"so have\",\n",
    "    \"so's\": \"so is\",\n",
    "    \"that'd\": \"that would\",\n",
    "    \"that'd've\": \"that would have\",\n",
    "    \"that's\": \"that is\",\n",
    "    \"there'd\": \"there had\",\n",
    "    \"there'd've\": \"there would have\",\n",
    "    \"there's\": \"there is\",\n",
    "    \"they'd\": \"they would\",\n",
    "    \"they'd've\": \"they would have\",\n",
    "    \"they'll\": \"they will\",\n",
    "    \"they'll've\": \"they will have\",\n",
    "    \"they're\": \"they are\",\n",
    "    \"they've\": \"they have\",\n",
    "    \"to've\": \"to have\",\n",
    "    \"wasn't\": \"was not\",\n",
    "    \"we'd\": \"we had\",\n",
    "    \"we'd've\": \"we would have\",\n",
    "    \"we'll\": \"we will\",\n",
    "    \"we'll've\": \"we will have\",\n",
    "    \"we're\": \"we are\",\n",
    "    \"we've\": \"we have\",\n",
    "    \"weren't\": \"were not\",\n",
    "    \"what'll\": \"what will\",\n",
    "    \"what'll've\": \"what will have\",\n",
    "    \"what're\": \"what are\",\n",
    "    \"what's\": \"what is\",\n",
    "    \"what've\": \"what have\",\n",
    "    \"when's\": \"when is\",\n",
    "    \"when've\": \"when have\",\n",
    "    \"where'd\": \"where did\",\n",
    "    \"where's\": \"where is\",\n",
    "    \"where've\": \"where have\",\n",
    "    \"who'll\": \"who will\",\n",
    "    \"who'll've\": \"who will have\",\n",
    "    \"who's\": \"who is\",\n",
    "    \"who've\": \"who have\",\n",
    "    \"why's\": \"why is\",\n",
    "    \"why've\": \"why have\",\n",
    "    \"will've\": \"will have\",\n",
    "    \"won't\": \"will not\",\n",
    "    \"won't've\": \"will not have\",\n",
    "    \"would've\": \"would have\",\n",
    "    \"wouldn't\": \"would not\",\n",
    "    \"wouldn't've\": \"would not have\",\n",
    "    \"y'all\": \"you all\",\n",
    "    \"y'alls\": \"you alls\",\n",
    "    \"y'all'd\": \"you all would\",\n",
    "    \"y'all'd've\": \"you all would have\",\n",
    "    \"y'all're\": \"you all are\",\n",
    "    \"y'all've\": \"you all have\",\n",
    "    \"you'd\": \"you had\",\n",
    "    \"you'd've\": \"you would have\",\n",
    "    \"you'll\": \"you will\",\n",
    "    \"you'll've\": \"you will have\",\n",
    "    \"you're\": \"you are\",\n",
    "    \"you've\": \"you have\"\n",
    "}"
   ]
  },
  {
   "cell_type": "code",
   "execution_count": null,
   "metadata": {
    "trusted": false,
    "_uuid": "0e6ac0681544ffa4ddf6af342222d80f9407fda3"
   },
   "outputs": [],
   "source": [
    "def expand_contraction(w):\n",
    "    w = w.strip().lower().replace(\" \", \"\")\n",
    "    return CONTRACTIONS.get(w, w)\n",
    "\n",
    "def tokenize(s: str):\n",
    "    xs = list(map(lambda w : expand_contraction(w.lower()).split(\" \"), re.findall(r\"[-\\w']+\", s)))\n",
    "    xs = set(reduce(lambda x, y : x + y, xs, []))\n",
    "    \n",
    "    return xs\n",
    "\n",
    "print(expand_contraction(\"yOu\\'Ve\"))\n",
    "print(tokenize(\"Thank you're the man, my man, thank you!\"))"
   ]
  },
  {
   "cell_type": "code",
   "execution_count": null,
   "metadata": {
    "trusted": false,
    "_uuid": "5f08bb30b7812885d0411eb752085abbd5740a8a"
   },
   "outputs": [],
   "source": [
    "def train(df):\n",
    "    # voc[word] = (sincere == 0, insincere == 1) \n",
    "    voc = {}\n",
    "    sincere_words_no = 0\n",
    "    insincere_words_no = 0\n",
    "\n",
    "    for (_, q, t) in tqdm(train_df[['question_text', 'target']].itertuples()):\n",
    "        for w in tokenize(q):\n",
    "            sincere_words_no += (t == 0) * 1 \n",
    "            insincere_words_no += (t == 1) * 1\n",
    "            \n",
    "            if w not in voc:\n",
    "                voc[w] = (int(t == 0), int(t == 1))\n",
    "            else:\n",
    "                s, i = voc[w]\n",
    "                voc[w] = (s + int(t == 0), i + int(t == 1))\n",
    "    \n",
    "    return voc, sincere_words_no, insincere_words_no"
   ]
  },
  {
   "cell_type": "code",
   "execution_count": null,
   "metadata": {
    "trusted": false,
    "_uuid": "3785083fe8fcc1d17d9a9b05178d59ea6a12c934"
   },
   "outputs": [],
   "source": [
    "voc, sincere_words_no, insincere_words_no = train(train_df)\n",
    "print(len(voc), sincere_words_no, insincere_words_no)"
   ]
  },
  {
   "cell_type": "code",
   "execution_count": null,
   "metadata": {
    "trusted": false,
    "_uuid": "68d28bb2d64a73f35a2c3d6428741a829f90ae20"
   },
   "outputs": [],
   "source": [
    "def predict(params, question, alpha=1):\n",
    "    voc, sincere_words_no, insincere_words_no = params\n",
    "    \n",
    "    log_s, log_i = np.log(0.5), np.log(0.5)\n",
    "    \n",
    "    s_ = (sincere_words_no + len(voc) * alpha)\n",
    "    i_ = (insincere_words_no + len(voc) * alpha)\n",
    "    \n",
    "    for w in tokenize(question):\n",
    "        if w in voc:\n",
    "            s, i = voc[w]\n",
    "            log_s += np.log(1.0 * (s + alpha) / s_)\n",
    "            log_i += np.log(1.0 * (i + alpha) / i_)\n",
    "        \n",
    "    return (1, log_i) if log_i >= log_s else (0, log_s)\n",
    "    \n",
    "params = (voc, sincere_words_no, insincere_words_no)\n",
    "predict(params, question=\"Why do Americans have an average IQ of 78 wheres I have an IQ of 159?\")"
   ]
  },
  {
   "cell_type": "code",
   "execution_count": null,
   "metadata": {
    "trusted": false,
    "_uuid": "6368dc2a277cc3719e3199eff742b6f06e0456be"
   },
   "outputs": [],
   "source": [
    "preds = []\n",
    "\n",
    "for (_, qid, qtext) in tqdm(test_df.itertuples()):\n",
    "    p = predict(params, qtext, alpha=1)\n",
    "    preds.append(int(p[0]))\n",
    "\n",
    "submission = pd.DataFrame.from_dict({\n",
    "    'qid': test_df['qid'],\n",
    "    'prediction': preds\n",
    "})\n",
    "submission.to_csv('submission.csv', index=False)"
   ]
  }
 ],
 "metadata": {
  "kernelspec": {
   "display_name": "Python 3",
   "language": "python",
   "name": "python3"
  },
  "language_info": {
   "codemirror_mode": {
    "name": "ipython",
    "version": 3
   },
   "file_extension": ".py",
   "mimetype": "text/x-python",
   "name": "python",
   "nbconvert_exporter": "python",
   "pygments_lexer": "ipython3",
   "version": "3.7.2"
  }
 },
 "nbformat": 4,
 "nbformat_minor": 1
}
